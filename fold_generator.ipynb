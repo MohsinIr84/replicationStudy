{
 "cells": [
  {
   "cell_type": "code",
   "execution_count": 71,
   "id": "ffd5327f",
   "metadata": {},
   "outputs": [],
   "source": [
    "import random\n",
    "import os\n",
    "\n",
    "# Get all Mutants\n",
    "with open(\"testset.txt\") as f:\n",
    "    lines = f.read().splitlines()\n",
    "    \n",
    "# Select 5-10 Random Mutants\n",
    "range_of_mutants_in_a_set = range(5,14)\n",
    "\n",
    "\n",
    "for fold in range(1,11):\n",
    "    # Folder Name\n",
    "    folder_name = \"fold\"+str(fold) # Folder for each fold\n",
    "    os.makedirs(folder_name, exist_ok=True)\n",
    "    for i in range(1,51): # Generate 50 mutant files - for a single Fold\n",
    "        file_name=\"file_mutant\"+str(i)\n",
    "        no_of_mutant = random.choice(range_of_mutants_in_a_set) # How many mutants -- Randomly selected\n",
    "        selected_mutants = random.choices(lines, k=no_of_mutant) # Randomly Selected Mutants\n",
    "        # Write to file\n",
    "        with open(folder_name+'/'+file_name+'.txt', 'w') as f:\n",
    "            for item in selected_mutants:\n",
    "                f.write(\"%s\\n\" % item)\n",
    "        selected_mutants = None\n"
   ]
  }
 ],
 "metadata": {
  "kernelspec": {
   "display_name": "Python 3",
   "language": "python",
   "name": "python3"
  },
  "language_info": {
   "codemirror_mode": {
    "name": "ipython",
    "version": 3
   },
   "file_extension": ".py",
   "mimetype": "text/x-python",
   "name": "python",
   "nbconvert_exporter": "python",
   "pygments_lexer": "ipython3",
   "version": "3.6.9"
  }
 },
 "nbformat": 4,
 "nbformat_minor": 5
}
